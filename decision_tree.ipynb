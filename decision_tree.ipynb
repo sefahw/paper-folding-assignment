{
  "cells": [
    {
      "cell_type": "markdown",
      "metadata": {
        "id": "view-in-github",
        "colab_type": "text"
      },
      "source": [
        "<a href=\"https://colab.research.google.com/github/sefahw/paper-folding-assignment/blob/main/decision_tree.ipynb\" target=\"_parent\"><img src=\"https://colab.research.google.com/assets/colab-badge.svg\" alt=\"Open In Colab\"/></a>"
      ]
    },
    {
      "cell_type": "code",
      "execution_count": 22,
      "metadata": {
        "id": "RqfkfamV24Q0"
      },
      "outputs": [],
      "source": [
        "import numpy as np\n",
        "import matplotlib.pyplot as plt\n",
        "import statistics"
      ]
    },
    {
      "cell_type": "code",
      "execution_count": 23,
      "metadata": {
        "id": "SH9_lQgXiosV"
      },
      "outputs": [],
      "source": [
        "\n",
        "class ScratchDecesionTreeClassifierDepth1():\n",
        "  def __init__(self, verbose=False):\n",
        "     self.verbose = verbose\n",
        "\n",
        "  def _gini(self, X):\n",
        "    unique,count= np.unique(X, return_counts=True)\n",
        "    tmp=0\n",
        "    for i in unique:\n",
        "        tmp+=(count[unique==i]/np.sum(count))**2\n",
        "    return 1-tmp\n",
        "  def fit(self,X, y):\n",
        "      feature_num=X.shape[1]\n",
        "      self.gain= 0\n",
        "      for i in range(feature_num):\n",
        "           self.threshold=np.unique(X[:,i])\n",
        "           for j in self.threshold[1,:]:\n",
        "               l=y[X[:,i]<j]\n",
        "               r=y[X[:,i]>=j]\n",
        "               gini_l=len(l)/len(l)+len(r)*self._gini(l)\n",
        "               gini_r=len(r)/len(l)+len(r)*self._gini(r)\n",
        "               tmp=self._gini(y)-gini_l-gini_r\n",
        "               if tmp> self.gain:\n",
        "                  self.l_label=statistics.mode(l)\n",
        "                  self.r_label=statistics.mode(r)\n",
        "                  self.feature=l\n",
        "                  self.threshold=j\n",
        "                  self.gain=tmp\n",
        "                  if self.verbose:\n",
        "                     print('feature',self.feature,\n",
        "                           'treshold',self.threshold,\n",
        "                           'gain',self.gain)\n",
        "  def predict(self, X): \n",
        "      return np.where(X[:,self.feature]<self.threshold,self.l_label,self.r_label) \n"
      ]
    },
    {
      "cell_type": "code",
      "execution_count": 24,
      "metadata": {
        "id": "rqrnUdxkioxW"
      },
      "outputs": [],
      "source": [
        "from matplotlib.colors import ListedColormap\n",
        "import matplotlib.patches as mpatches\n",
        "def decision_region(X,y,model,step=0.01,\n",
        "                    title='decision region',\n",
        "                    xlabel='xlabel',\n",
        "                    ylabel='ylabel',\n",
        "                    target_names=['versicolor', 'virginica']):\n",
        "    \n",
        "    # setting\n",
        "    scatter_color = ['red', 'blue']\n",
        "    contourf_color = ['pink', 'skyblue']\n",
        "    n_class = 2\n",
        "    mesh_f0, mesh_f1  = np.meshgrid(np.arange(np.min(X[:,0])-0.5, np.max(X[:,0])+0.5, step), np.arange(np.min(X[:,1])-0.5, np.max(X[:,1])+0.5, step))\n",
        "    mesh = np.c_[np.ravel(mesh_f0),np.ravel(mesh_f1)]\n",
        "    y_pred = model.predict(mesh).reshape(mesh_f0.shape)\n",
        "    \n",
        "    # plot\n",
        "    plt.title(title)\n",
        "    plt.xlabel(xlabel)\n",
        "    plt.ylabel(ylabel)\n",
        "    plt.contourf(mesh_f0, mesh_f1, y_pred, n_class-1, cmap=ListedColormap(contourf_color))\n",
        "    plt.contour(mesh_f0, mesh_f1, y_pred, n_class-1, colors='y', linewidths=3, alpha=0.5)\n",
        "    for i, target in enumerate(set(y)):\n",
        "        plt.scatter(X[y==target][:, 0], X[y==target][:, 1], s=80, color=scatter_color[i], label=target_names[i], marker='o')\n",
        "    patches = [mpatches.Patch(color=scatter_color[i], label=target_names[i]) for i in range(n_class)]\n",
        "    plt.legend(handles=patches)\n",
        "    plt.legend()\n",
        "    plt.show()"
      ]
    },
    {
      "cell_type": "code",
      "execution_count": 25,
      "metadata": {
        "colab": {
          "base_uri": "https://localhost:8080/"
        },
        "id": "XWMxsWw3yCVF",
        "outputId": "099735a1-3e65-4321-9701-c8513628fd96"
      },
      "outputs": [
        {
          "output_type": "stream",
          "name": "stdout",
          "text": [
            "threshold_value [-1  0  1  2  4]\n"
          ]
        }
      ],
      "source": [
        "X=np.array([0,2,1,-1,4])\n",
        "y=np.array([0,0,0,1,1])\n",
        "\n",
        "threshold_value=np.unique(X)\n",
        "print('threshold_value',threshold_value)"
      ]
    },
    {
      "cell_type": "code",
      "execution_count": 26,
      "metadata": {
        "colab": {
          "base_uri": "https://localhost:8080/"
        },
        "id": "LVfyXsely-OC",
        "outputId": "30bd9cdc-9d0f-4b39-e52e-8e31583defc3"
      },
      "outputs": [
        {
          "output_type": "stream",
          "name": "stdout",
          "text": [
            "unique [0 1] unique_counts [3 2]\n"
          ]
        }
      ],
      "source": [
        "u,counts=np.unique(y,return_counts=True)\n",
        "print('unique',u,'unique_counts',counts)\n"
      ]
    },
    {
      "cell_type": "code",
      "execution_count": 27,
      "metadata": {
        "id": "llSxYvm8zv4j"
      },
      "outputs": [],
      "source": [
        "def _gini(X):\n",
        "    unique,count= np.unique(X, return_counts=True)\n",
        "    tmp=0\n",
        "    for i in unique:\n",
        "        tmp+=(count[unique==i]/np.sum(count))**2\n",
        "    return 1-tmp"
      ]
    },
    {
      "cell_type": "code",
      "execution_count": 28,
      "metadata": {
        "colab": {
          "base_uri": "https://localhost:8080/"
        },
        "id": "hCSIeKGj0TBT",
        "outputId": "668615cb-af08-4394-8595-41dd5b99313d"
      },
      "outputs": [
        {
          "output_type": "stream",
          "name": "stdout",
          "text": [
            "0 c1 [1] c2 [0 0 0 1]\n",
            "0 gini_left: [0.] gini_right: [0.375]\n",
            "1 c1 [0 1] c2 [0 0 1]\n",
            "1 gini_left: [0.5] gini_right: [0.44444444]\n",
            "2 c1 [0 0 1] c2 [0 1]\n",
            "2 gini_left: [0.44444444] gini_right: [0.5]\n",
            "4 c1 [0 0 0 1] c2 [1]\n",
            "4 gini_left: [0.375] gini_right: [0.]\n"
          ]
        }
      ],
      "source": [
        "for i in threshold_value[1:]:\n",
        "               c1=y[X <i]\n",
        "               c2=y[X >=i]\n",
        "\n",
        "\n",
        "               print(i,'c1',c1,'c2',c2)\n",
        "               print(i,'gini_left:',_gini(c1),'gini_right:',_gini(c2))"
      ]
    },
    {
      "cell_type": "code",
      "execution_count": 29,
      "metadata": {
        "colab": {
          "base_uri": "https://localhost:8080/"
        },
        "id": "F6Xz4WYv3xkk",
        "outputId": "c5e143cc-437b-4c3a-c122-a0b4aa095ba4"
      },
      "outputs": [
        {
          "output_type": "stream",
          "name": "stdout",
          "text": [
            "0 [0.5]\n",
            "1 [0.33333333]\n",
            "2 [0.33333333]\n",
            "4 [0.5]\n"
          ]
        }
      ],
      "source": [
        "for i in threshold_value[1:]:\n",
        "               c1=y[X <i]\n",
        "               c2=y[X >=i]\n",
        "               left=len(c1)/(len(c1)+len(c2))*_gini(c1)\n",
        "               right=len(c2)/(len(c1)+len(c2))*_gini(c2)\n",
        "               gain=_gini(X)-left-right\n",
        "               print(i,gain)\n"
      ]
    },
    {
      "cell_type": "code",
      "execution_count": 30,
      "metadata": {
        "id": "61rkvlKh4ppX"
      },
      "outputs": [],
      "source": [
        "X=np.array([[-0.44699,-2.807],[-1.4621,-2.4586],\n",
        "            [0.10645,1.9242],[-3.5944,-4.0112],\n",
        "            [0.9888,4.5718],[-3.1625,-3.9606],\n",
        "            [0.56421,0.72888],[-0.60216,8.4636],\n",
        "            [-0.61251,-0.75345],[-0.73535,-2.2718],\n",
        "            [-0.80647,-2.2135],[0.86291,2.5946],\n",
        "            [-3.11108,0.15394],[-2.9362,2.5462],\n",
        "            [-0.57242,-2.9915],[1.4771,3.4896],\n",
        "            [-0.58619,0.37158],[0.6017,4.3439],\n",
        "            [-2.1086,8.3428],[-410113,-4.353],\n",
        "            [-1.9948,-1.3927],[0.35084,-0.031994],\n",
        "            [0.96765,7.8929],[-1.281,15.6824],\n",
        "            [0.96765,10.083],[1.3763,1.3347],\n",
        "            [-2.3234,-2.5323],[-2.9452,-1.8219],\n",
        "            [0.14654,-0.28733],[0.5461,5.8245],\n",
        "            [-0.65259,9.3444],[0.59912,5.3524],\n",
        "            [0.50214,-0.31818],[-3.0603,-3.6461],\n",
        "            [-6.6797,0.67661],[-2.353,-0.72261],\n",
        "            [1.1319,2.4023],[-0.12243,9.0162],\n",
        "            [-2.5677,13.1779],[0.057313,5.4681]\n",
        "            ])\n",
        "y=np.array([0,0,0,0,0,0,0,0,0,0,0,0,0,0,0,0,0,0,0,0,\n",
        "            1,1,1,1,1,1,1,1,1,1,1,1,1,1,1,1,1,1,1,1])"
      ]
    },
    {
      "cell_type": "code",
      "execution_count": 31,
      "metadata": {
        "colab": {
          "base_uri": "https://localhost:8080/",
          "height": 492
        },
        "id": "cUh84ZjqP1Oo",
        "outputId": "0d744fbd-2e2e-41d8-b28a-6c35b2ea3dcd"
      },
      "outputs": [
        {
          "output_type": "display_data",
          "data": {
            "text/plain": [
              "<Figure size 864x576 with 1 Axes>"
            ],
            "image/png": "[encoded data removed]"
          },
          "metadata": {
            "needs_background": "light"
          }
        }
      ],
      "source": [
        "fig=plt.subplots(figsize=(12,8))\n",
        "plt.rcParams[\"font.size\"]=20\n",
        "plt.scatter(X[y==1,0] ,X[y==1,1],s=80,label='y=1')\n",
        "plt.scatter(X[y==0,0] ,X[y==0,1],s=80,label='y=0')\n",
        "plt.legend();"
      ]
    },
    {
      "cell_type": "code",
      "execution_count": 32,
      "metadata": {
        "colab": {
          "base_uri": "https://localhost:8080/"
        },
        "id": "GjVabTouRY5v",
        "outputId": "ebf2b155-30e9-4b49-e72b-4ff2843b4c54"
      },
      "outputs": [
        {
          "output_type": "stream",
          "name": "stdout",
          "text": [
            "(32, 2)\n",
            "(32,)\n",
            "(8, 2)\n",
            "(8,)\n"
          ]
        }
      ],
      "source": [
        "from sklearn.model_selection  import train_test_split\n",
        "X_train,X_valid,y_train,y_valid=\\\n",
        "train_test_split(X,y,train_size=0.8,random_state=None)\n",
        "\n",
        "print(X_train.shape)\n",
        "print(y_train.shape)\n",
        "print(X_valid.shape)\n",
        "print(y_valid.shape)"
      ]
    },
    {
      "cell_type": "code",
      "execution_count": 33,
      "metadata": {
        "colab": {
          "base_uri": "https://localhost:8080/",
          "height": 339
        },
        "id": "ReHz5NR6Tfcq",
        "outputId": "e2d1164c-1e57-40f2-a1a2-fa124e1e050a"
      },
      "outputs": [
        {
          "output_type": "error",
          "ename": "IndexError",
          "evalue": "ignored",
          "traceback": [
            "\u001b[0;31m---------------------------------------------------------------------------\u001b[0m",
            "\u001b[0;31mIndexError\u001b[0m                                Traceback (most recent call last)",
            "\u001b[0;32m<ipython-input-33-3cd61ab6f28b>\u001b[0m in \u001b[0;36m<module>\u001b[0;34m\u001b[0m\n\u001b[1;32m      1\u001b[0m \u001b[0mclf1\u001b[0m \u001b[0;34m=\u001b[0m \u001b[0mScratchDecesionTreeClassifierDepth1\u001b[0m\u001b[0;34m(\u001b[0m\u001b[0mverbose\u001b[0m\u001b[0;34m=\u001b[0m\u001b[0;32mTrue\u001b[0m\u001b[0;34m)\u001b[0m\u001b[0;34m\u001b[0m\u001b[0;34m\u001b[0m\u001b[0m\n\u001b[1;32m      2\u001b[0m \u001b[0;34m\u001b[0m\u001b[0m\n\u001b[0;32m----> 3\u001b[0;31m \u001b[0mclf1\u001b[0m\u001b[0;34m.\u001b[0m\u001b[0mfit\u001b[0m\u001b[0;34m(\u001b[0m\u001b[0mX_train\u001b[0m\u001b[0;34m,\u001b[0m\u001b[0my_train\u001b[0m\u001b[0;34m)\u001b[0m\u001b[0;34m\u001b[0m\u001b[0;34m\u001b[0m\u001b[0m\n\u001b[0m\u001b[1;32m      4\u001b[0m \u001b[0;34m\u001b[0m\u001b[0m\n",
            "\u001b[0;32m<ipython-input-23-ab0e9853698f>\u001b[0m in \u001b[0;36mfit\u001b[0;34m(self, X, y)\u001b[0m\n\u001b[1;32m     14\u001b[0m       \u001b[0;32mfor\u001b[0m \u001b[0mi\u001b[0m \u001b[0;32min\u001b[0m \u001b[0mrange\u001b[0m\u001b[0;34m(\u001b[0m\u001b[0mfeature_num\u001b[0m\u001b[0;34m)\u001b[0m\u001b[0;34m:\u001b[0m\u001b[0;34m\u001b[0m\u001b[0;34m\u001b[0m\u001b[0m\n\u001b[1;32m     15\u001b[0m            \u001b[0mself\u001b[0m\u001b[0;34m.\u001b[0m\u001b[0mthreshold\u001b[0m\u001b[0;34m=\u001b[0m\u001b[0mnp\u001b[0m\u001b[0;34m.\u001b[0m\u001b[0munique\u001b[0m\u001b[0;34m(\u001b[0m\u001b[0mX\u001b[0m\u001b[0;34m[\u001b[0m\u001b[0;34m:\u001b[0m\u001b[0;34m,\u001b[0m\u001b[0mi\u001b[0m\u001b[0;34m]\u001b[0m\u001b[0;34m)\u001b[0m\u001b[0;34m\u001b[0m\u001b[0;34m\u001b[0m\u001b[0m\n\u001b[0;32m---> 16\u001b[0;31m            \u001b[0;32mfor\u001b[0m \u001b[0mj\u001b[0m \u001b[0;32min\u001b[0m \u001b[0mself\u001b[0m\u001b[0;34m.\u001b[0m\u001b[0mthreshold\u001b[0m\u001b[0;34m[\u001b[0m\u001b[0;36m1\u001b[0m\u001b[0;34m,\u001b[0m\u001b[0;34m:\u001b[0m\u001b[0;34m]\u001b[0m\u001b[0;34m:\u001b[0m\u001b[0;34m\u001b[0m\u001b[0;34m\u001b[0m\u001b[0m\n\u001b[0m\u001b[1;32m     17\u001b[0m                \u001b[0ml\u001b[0m\u001b[0;34m=\u001b[0m\u001b[0my\u001b[0m\u001b[0;34m[\u001b[0m\u001b[0mX\u001b[0m\u001b[0;34m[\u001b[0m\u001b[0;34m:\u001b[0m\u001b[0;34m,\u001b[0m\u001b[0mi\u001b[0m\u001b[0;34m]\u001b[0m\u001b[0;34m<\u001b[0m\u001b[0mj\u001b[0m\u001b[0;34m]\u001b[0m\u001b[0;34m\u001b[0m\u001b[0;34m\u001b[0m\u001b[0m\n\u001b[1;32m     18\u001b[0m                \u001b[0mr\u001b[0m\u001b[0;34m=\u001b[0m\u001b[0my\u001b[0m\u001b[0;34m[\u001b[0m\u001b[0mX\u001b[0m\u001b[0;34m[\u001b[0m\u001b[0;34m:\u001b[0m\u001b[0;34m,\u001b[0m\u001b[0mi\u001b[0m\u001b[0;34m]\u001b[0m\u001b[0;34m>=\u001b[0m\u001b[0mj\u001b[0m\u001b[0;34m]\u001b[0m\u001b[0;34m\u001b[0m\u001b[0;34m\u001b[0m\u001b[0m\n",
            "\u001b[0;31mIndexError\u001b[0m: too many indices for array: array is 1-dimensional, but 2 were indexed"
          ]
        }
      ],
      "source": [
        "clf1 = ScratchDecesionTreeClassifierDepth1(verbose=True)\n",
        "\n",
        "clf1.fit(X_train,y_train)\n",
        "  "
      ]
    },
    {
      "cell_type": "code",
      "execution_count": null,
      "metadata": {
        "id": "eCUi3_frT1Lj"
      },
      "outputs": [],
      "source": [
        "y_pred=clf1.predict(X_valid)"
      ]
    },
    {
      "cell_type": "code",
      "execution_count": null,
      "metadata": {
        "id": "jXUxrVd0Xbji"
      },
      "outputs": [],
      "source": [
        "print(y_pred)\n",
        "print(X_valid)"
      ]
    },
    {
      "cell_type": "code",
      "execution_count": null,
      "metadata": {
        "id": "FiB5WoKTWdac"
      },
      "outputs": [],
      "source": [
        "from sklearn.metrics import accuracy_score\n",
        "from sklearn.metrics import precision_score\n",
        "from sklearn.metrics import  recall_score\n",
        "from sklearn.metrics import f1_score\n",
        "accuracy=accuracy_score(y_valid,y_pred)\n",
        "precision=precision_score(y_valid,y_pred)\n",
        "recall=recall_score(y_valid,y_pred)\n",
        "f1=f1_score(y_valid,y_pred)\n",
        "print('accuracy',accuracy)\n",
        "print('precision',precision)\n",
        "print('recall',recall)\n",
        "print('f1',f1)"
      ]
    },
    {
      "cell_type": "code",
      "execution_count": null,
      "metadata": {
        "id": "2ZxAN5NiYNPu"
      },
      "outputs": [],
      "source": [
        "fit,ax=plt.subplots(figsize=(12,12))\n",
        "plt.rcParams[\"font.size\"]=20\n",
        "decision_region(X_train,y_train,clf1,target_names=['0'   '1'],title='TRAIN')"
      ]
    }
  ],
  "metadata": {
    "colab": {
      "provenance": [],
      "authorship_tag": "ABX9TyN0/Grtlhnhv57GeLZhXxan",
      "include_colab_link": true
    },
    "kernelspec": {
      "display_name": "Python 3",
      "name": "python3"
    },
    "language_info": {
      "name": "python"
    }
  },
  "nbformat": 4,
  "nbformat_minor": 0
}